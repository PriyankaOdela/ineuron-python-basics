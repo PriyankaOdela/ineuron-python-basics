{
 "cells": [
  {
   "cell_type": "code",
   "execution_count": 5,
   "id": "ec5967ff",
   "metadata": {},
   "outputs": [
    {
     "name": "stdout",
     "output_type": "stream",
     "text": [
      "Enter km:12\n",
      "Miles is: 7.45644\n"
     ]
    }
   ],
   "source": [
    " # 1. Write a Python program to convert kilometers to miles?\n",
    "# 1 km = 0.62137 mi\n",
    "kilometer =float(input(\"Enter km:\"))\n",
    "conv_factor = 0.62137\n",
    "miles = kilometer*conv_factor\n",
    "print(\"Miles is:\",miles)"
   ]
  },
  {
   "cell_type": "code",
   "execution_count": 6,
   "id": "86722d2c",
   "metadata": {},
   "outputs": [
    {
     "name": "stdout",
     "output_type": "stream",
     "text": [
      "Enter celsius of day:34\n",
      "Fahrenheit is: 1149.1999999999998\n"
     ]
    }
   ],
   "source": [
    "# 2. Write a Python program to convert Celsius to Fahrenheit?\n",
    "#1 celsius = 33.8 F\n",
    "celsius = float(input(\"Enter celsius of day:\"))\n",
    "conv_factor = 33.8\n",
    "fahrenheit = celsius*conv_factor\n",
    "print(\"Fahrenheit is:\",fahrenheit)"
   ]
  },
  {
   "cell_type": "code",
   "execution_count": 10,
   "id": "afdf6f42",
   "metadata": {},
   "outputs": [
    {
     "name": "stdout",
     "output_type": "stream",
     "text": [
      "Enter Year: 2026\n",
      "Enter Month:10\n",
      "    October 2026\n",
      "Mo Tu We Th Fr Sa Su\n",
      "          1  2  3  4\n",
      " 5  6  7  8  9 10 11\n",
      "12 13 14 15 16 17 18\n",
      "19 20 21 22 23 24 25\n",
      "26 27 28 29 30 31\n",
      "\n"
     ]
    }
   ],
   "source": [
    "# 3. Write a Python program to display calendar\n",
    "\n",
    "import calendar\n",
    "year = int(input(\"Enter Year: \"))\n",
    "month = int(input(\"Enter Month:\"))\n",
    "print(calendar.month(year,month))"
   ]
  },
  {
   "cell_type": "code",
   "execution_count": 14,
   "id": "f213d837",
   "metadata": {},
   "outputs": [
    {
     "name": "stdout",
     "output_type": "stream",
     "text": [
      "The root values are: (-10-16.852299546352718j) (-10+16.852299546352718j)\n"
     ]
    }
   ],
   "source": [
    "# 4. Write a Python program to solve quadratic equation?\n",
    "\n",
    "import cmath\n",
    "a = 4\n",
    "b = 5\n",
    "c = 6\n",
    "d = b**2 - 4 * a * c\n",
    "sol1  = ((-b-cmath.sqrt(d))/2*a)\n",
    "sol2 = ((-b+cmath.sqrt(d))/2*a)\n",
    "print(\"The root values are:\",sol1,sol2)"
   ]
  },
  {
   "cell_type": "code",
   "execution_count": 17,
   "id": "ae3831d6",
   "metadata": {},
   "outputs": [
    {
     "name": "stdout",
     "output_type": "stream",
     "text": [
      "a is: 5\n",
      "b is: 4\n"
     ]
    }
   ],
   "source": [
    "#5. Write a Python program to swap two variables without temp variable?\n",
    "a = 4\n",
    "b = 5\n",
    "a,b = b,a\n",
    "print(\"a is:\",a)\n",
    "print(\"b is:\",b)"
   ]
  },
  {
   "cell_type": "code",
   "execution_count": null,
   "id": "751df70d",
   "metadata": {},
   "outputs": [],
   "source": []
  }
 ],
 "metadata": {
  "kernelspec": {
   "display_name": "Python 3 (ipykernel)",
   "language": "python",
   "name": "python3"
  },
  "language_info": {
   "codemirror_mode": {
    "name": "ipython",
    "version": 3
   },
   "file_extension": ".py",
   "mimetype": "text/x-python",
   "name": "python",
   "nbconvert_exporter": "python",
   "pygments_lexer": "ipython3",
   "version": "3.9.13"
  }
 },
 "nbformat": 4,
 "nbformat_minor": 5
}
