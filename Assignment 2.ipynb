{
 "cells": [
  {
   "cell_type": "raw",
   "id": "9727aa4a",
   "metadata": {},
   "source": [
    " 1.What are the two values of the Boolean data type? How do you write them?\n",
    "\n",
    "The two types of boolean are true and false.They are specifically written as:\n",
    "    1.True 2.False"
   ]
  },
  {
   "cell_type": "raw",
   "id": "f44ee7b6",
   "metadata": {},
   "source": [
    "2. What are the three different types of Boolean operators?\n",
    "\n",
    "The three Boolean operators are:\n",
    "    1.AND\n",
    "    2.OR\n",
    "    3.NOT"
   ]
  },
  {
   "cell_type": "raw",
   "id": "368a3dd0",
   "metadata": {},
   "source": [
    "3. Make a list of each Boolean operator truth tables (i.e. every possible combination of Boolean\n",
    "values for the operator and what it evaluate ).\n",
    "\n",
    "AND:\n",
    "True and True : True\n",
    "True and False : False\n",
    "False and False : False\n",
    "\n",
    "OR:\n",
    "True or True :True\n",
    "True or False : True\n",
    "False or False :False\n",
    "\n",
    "NOT:\n",
    "not True :False\n",
    "not False: True\n"
   ]
  },
  {
   "cell_type": "raw",
   "id": "6b285e5d",
   "metadata": {},
   "source": [
    "4. What are the values of the following expressions?\n",
    "\n",
    "(5 > 4) and (3 == 5) : False\n",
    "not (5 > 4) : False\n",
    "(5 > 4) or (3 == 5) :True\n",
    "not ((5 > 4) or (3 == 5)) :False\n",
    "(True and True) and (True == False) :False\n",
    "(not False) or (not True) :True\n",
    "\n",
    "\n"
   ]
  },
  {
   "cell_type": "raw",
   "id": "169c2df9",
   "metadata": {},
   "source": [
    "5. What are the six comparison operators?\n",
    " 1. is Greater than >\n",
    " 2. is Less Than <\n",
    " 3. is greater than or equal to >=\n",
    " 4. is less than or equal to <=\n",
    " 5. is equal to ==\n",
    " 6.not equal to !=\n"
   ]
  },
  {
   "cell_type": "raw",
   "id": "e8cfa62a",
   "metadata": {},
   "source": [
    "6. How do you tell the difference between the equal to and assignment operators?Describe a condition and when you would use one.\n",
    "\n",
    "The equal to operator is used for comparison left operand to the right where as the assignment (=)operator is used for storing the values in particular operand.\n",
    "ForEx:\n",
    "    a = 5 is assignment of value 5 in variable a\n",
    "    5 == 5 is comparing the both values or we say a == 5 for comparison.\n",
    "    \n"
   ]
  },
  {
   "cell_type": "raw",
   "id": "e56d9736",
   "metadata": {},
   "source": [
    "7. Identify the three blocks in this code:\n",
    "\n",
    "spam = 0\n",
    "if spam == 10:\n",
    "    print('eggs')\n",
    "if spam > 5:\n",
    "    print('bacon')\n",
    "else:\n",
    "    print('ham')\n",
    "print('spam')\n",
    "print('spam')"
   ]
  },
  {
   "cell_type": "raw",
   "id": "8ae7aa71",
   "metadata": {},
   "source": [
    "8. Write code that prints Hello if 1 is stored in spam, prints Howdy if 2 is stored in spam, and prints Greetings! if anything else is stored in spam.\n",
    "\n",
    "spam = input('enter spam')\n",
    "if spam == 1:\n",
    "        print('Hello')\n",
    "  elif spam == 2:\n",
    "        print('Howdy')\n",
    "else:\n",
    "        print(\"Greetings!\")"
   ]
  },
  {
   "cell_type": "raw",
   "id": "df72055d",
   "metadata": {},
   "source": [
    "9.If your programme is stuck in an endless loop, what keys you’ll press?\n",
    " Ctrl + C"
   ]
  },
  {
   "cell_type": "raw",
   "id": "8a7dec70",
   "metadata": {},
   "source": [
    "10. How can you tell the difference between break and continue?\n",
    "\n",
    "Break keyword will exit the loop and continue keyword will executes which makes the user doen't exit the loop."
   ]
  },
  {
   "cell_type": "raw",
   "id": "51a5af8a",
   "metadata": {},
   "source": [
    "11. In a for loop, what is the difference between range(10), range(0, 10), and range(0, 10, 1)?\n",
    "\n",
    "range(10) : by default gives the values from 0 till 9\n",
    "\n",
    "range(0,10) : this is similar to range(10) which in for loop executes the values from \n",
    "0\n",
    "1\n",
    "2\n",
    "3\n",
    "4\n",
    "5\n",
    "6\n",
    "7\n",
    "8\n",
    "9\n",
    "\n",
    "range(0,10,1) : here the step of 1 is used which on execution gives 0 till 9"
   ]
  },
  {
   "cell_type": "raw",
   "id": "830ba05c",
   "metadata": {},
   "source": [
    "12. Write a short program that prints the numbers 1 to 10 using a for loop. Then write an equivalent program that prints the numbers 1 to 10 using a \n",
    "while loop.\n",
    "\n",
    "for i in range(1,11):\n",
    "    print(i)\n",
    "\n",
    "a = 1\n",
    "while a <= 10:\n",
    "    print(a)\n",
    "    a = a + 1\n",
    "\n"
   ]
  },
  {
   "cell_type": "raw",
   "id": "3d35c318",
   "metadata": {},
   "source": [
    "13. If you had a function named bacon() inside a module named spam, how would you call it after importing spam?\n",
    "\n",
    "spam.bacon()"
   ]
  }
 ],
 "metadata": {
  "kernelspec": {
   "display_name": "Python 3 (ipykernel)",
   "language": "python",
   "name": "python3"
  },
  "language_info": {
   "codemirror_mode": {
    "name": "ipython",
    "version": 3
   },
   "file_extension": ".py",
   "mimetype": "text/x-python",
   "name": "python",
   "nbconvert_exporter": "python",
   "pygments_lexer": "ipython3",
   "version": "3.9.13"
  }
 },
 "nbformat": 4,
 "nbformat_minor": 5
}
