{
 "cells": [
  {
   "cell_type": "raw",
   "id": "36e0d984",
   "metadata": {},
   "source": [
    "1. In the below elements which of them are values or an expression? eg:- values can be integer or string and expressions will be mathematical operators.\n",
    "* \n",
    "'hello'\n",
    "-87.8\n",
    "- \n",
    "/ \n",
    "\n",
    "\n",
    "6 \n",
    "\n",
    "\n",
    "Values :- 'hello',-87.8,6\n",
    "Expressions :- (-,/)"
   ]
  },
  {
   "cell_type": "raw",
   "id": "89e83101",
   "metadata": {},
   "source": [
    "2. What is the difference between string and variable?\n",
    "\n",
    "String :A sequence of characters.Strings are enclosed in single quotes('') or double quotes(\" \").\n",
    "    Ex : 'Fred' or \"Fred\"\n",
    "\n",
    "Variable : Variable is representation of values.\n",
    "    Ex : x = 5,d = \"telephone\"\n",
    "        x and d are said to be variables as contain the values.\n",
    "        Here assignment operator is used '='."
   ]
  },
  {
   "cell_type": "raw",
   "id": "b5adf58d",
   "metadata": {},
   "source": [
    " 3.Describe three different data types.\n",
    "\n",
    "Numeric data type - int,float,complex\n",
    "\n",
    "1.int - whole numbers ,positive or negative,zero\n",
    "    ex : 34,-34,0,1,23\n",
    "    \n",
    "2.float - It is specified by decimal point.\n",
    "    ex : 34.567,567.889\n",
    "    \n",
    "3.complex - complex numbers such as 4+5j (real + imaginary)\n",
    "\n",
    "Sequence data type -String,Lists,Tuple\n",
    "1.String - A sequence of characters.\n",
    "        ex : 'String',\"Example\"\n",
    "        \n",
    "2.List[] - Ordered collection of objects called items.\n",
    "        ex : grocery list [\"soaps\",\"wheat\",\"sugar\",\"tea powder\"]\n",
    "        \n",
    "3.Tuple() - A tuple is similar to list the difference is that list is mutable and tuple is                   immutable.\n",
    "        ex : tup = (1,2,3)\n",
    "\n",
    "Boolean - by default takes only two built-in values\n",
    "           True and False."
   ]
  },
  {
   "cell_type": "raw",
   "id": "788a2647",
   "metadata": {},
   "source": [
    "4.What is an expression made up of? What do all expressions do?\n",
    "\n",
    "An expression is a combination operators and operands.Sometime they are the representation of values.\n",
    "For Ex x = '19' is a expression or precisely an example of string value.\n",
    "the expression 4,'4' are different.\n",
    "All expressions in python have data types.\n",
    "These expressions are used for performing certain tasks or interpreted for some result.\n"
   ]
  },
  {
   "cell_type": "raw",
   "id": "87859c0d",
   "metadata": {},
   "source": [
    "5. This assignment statements, like spam = 10. What is the difference between an expression and a statement?\n",
    "\n",
    "An expression can be defined as any element in our utility that evaluates some values. An expression evaluates a value.\n",
    "\n",
    "A declaration does something.\n",
    "An expression is any series of symbols that represents a value. For example, 2.9, a + 5, (3 + 5) / 4.\n",
    "\n",
    "\n",
    "Statements represent a motion or command e.g print statements, mission statements. Expressions need to be evaluated.\n",
    "ex : print(\"hello\")\n"
   ]
  },
  {
   "cell_type": "raw",
   "id": "68f5dced",
   "metadata": {},
   "source": [
    " 6. After running the following code, what does the variable bacon contain?\n",
    "bacon = 22\n",
    "bacon + 1\n",
    "\n",
    " 23"
   ]
  },
  {
   "cell_type": "raw",
   "id": "51a9cbf1",
   "metadata": {},
   "source": [
    "7. What should the values of the following two terms be?\n",
    "'spam' + 'spamspam'\n",
    "'spam' * 3\n",
    "\n",
    "\n",
    "'spamspamspam'"
   ]
  },
  {
   "cell_type": "raw",
   "id": "566397a1",
   "metadata": {},
   "source": [
    "8. Why is eggs a valid variable name while 100 is invalid?\n",
    "\n",
    "Variable name must and should start with an letter or an underscore not with numbers.\n",
    "So eggs is valid variable name but not the 100."
   ]
  }
 ],
 "metadata": {
  "kernelspec": {
   "display_name": "Python 3 (ipykernel)",
   "language": "python",
   "name": "python3"
  },
  "language_info": {
   "codemirror_mode": {
    "name": "ipython",
    "version": 3
   },
   "file_extension": ".py",
   "mimetype": "text/x-python",
   "name": "python",
   "nbconvert_exporter": "python",
   "pygments_lexer": "ipython3",
   "version": "3.9.13"
  }
 },
 "nbformat": 4,
 "nbformat_minor": 5
}
