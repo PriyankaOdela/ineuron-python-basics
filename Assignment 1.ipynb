{
 "cells": [
  {
   "cell_type": "code",
   "execution_count": null,
   "id": "dfb8e42d",
   "metadata": {},
   "outputs": [],
   "source": [
    "1. In the below elements which of them are values or an expression? eg:- values can be integer or string and expressions will be mathematical operators.\n",
    "* \n",
    "'hello'\n",
    "-87.8\n",
    "- \n",
    "/ \n",
    "\n",
    "\n",
    "6 \n",
    "\n",
    "\n",
    "Values : 'hello',-87.8,6\n",
    "Expressions :*,-,/"
   ]
  },
  {
   "cell_type": "code",
   "execution_count": null,
   "id": "6d32b419",
   "metadata": {},
   "outputs": [],
   "source": [
    "2. What is the difference between string and variable?\n",
    "\n",
    "String : A string is a sequence of characters enclosed in a single('') or double(\" \") quotes.\n",
    "\n",
    "Variable : A variable is a label for storing values and accessing when needed."
   ]
  },
  {
   "cell_type": "code",
   "execution_count": null,
   "id": "c07cba65",
   "metadata": {},
   "outputs": [],
   "source": [
    "3. Describe three different data types.\n",
    "\n",
    "The most common data types used in python for numbers -INTEGER,FLOAT and for words we use STRING.\n",
    "\n",
    "#integer - 12\n",
    "#float - 23.45\n",
    "#string - \"Fred\" or 'Fred' or '23'\n",
    "\n",
    "Precisely in Python,type() is used for getting type of the object.\n",
    "\n",
    "Integers can positive or negative numbers.\n",
    " Ex : -4,-3,3,4,0\n",
    "\n",
    "Floats are real numbers but also includes decimals.\n",
    " Ex : 2.3344,3.145\n",
    " \n",
    "String is a sequence of characters enclosed in ' ' or \" \" but not the mixed ' \".\n",
    " Ex : \"Fred\"\n",
    " \n",
    "Boolean - Boolean is one of the most used data type.It can take only one of two values either True or False.\n",
    "\n",
    " "
   ]
  },
  {
   "cell_type": "code",
   "execution_count": null,
   "id": "57f70403",
   "metadata": {},
   "outputs": [],
   "source": [
    "4. What is an expression made up of? What do all expressions do?\n",
    "\n",
    "An expression is made of operations like simple arithemetic operations(+,-,*,/).\n",
    " Ex : 4+3+2+1,4-3,5*6\n",
    "\n",
    "An expression evaluates the task given."
   ]
  },
  {
   "cell_type": "code",
   "execution_count": null,
   "id": "c3ed2b20",
   "metadata": {},
   "outputs": [],
   "source": [
    "5. This assignment statements, like spam = 10. What is the difference between an expression and a statement?\n",
    "\n",
    "A statement is a complete line of code that performs some action, while an expression is any section of the code that evaluates to a value.\n",
    "\n",
    "Ex for expression :\n",
    "min(2,3)\n",
    "'Foo'\n",
    "2+3+4\n",
    "2*3\n",
    "\n",
    "Ex for statement:\n",
    "print()\n",
    "if condition:\n",
    "for value in variable:"
   ]
  },
  {
   "cell_type": "code",
   "execution_count": null,
   "id": "be5cc518",
   "metadata": {},
   "outputs": [],
   "source": [
    "6. After running the following code, what does the variable bacon contain?\n",
    "bacon = 22\n",
    "bacon + 1\n",
    "\n",
    "\n",
    "23"
   ]
  },
  {
   "cell_type": "code",
   "execution_count": null,
   "id": "38eed7fd",
   "metadata": {},
   "outputs": [],
   "source": [
    "7. What should the values of the following two terms be?\n",
    "'spam' + 'spamspam'\n",
    "'spam' * 3\n",
    "\n",
    "\n",
    "'spamspamspam'"
   ]
  },
  {
   "cell_type": "code",
   "execution_count": null,
   "id": "e9dc4572",
   "metadata": {},
   "outputs": [],
   "source": [
    "8. Why is eggs a valid variable name while 100 is invalid?\n",
    "\n",
    "Variable name should start with letter or an underscore.\n",
    "So 'eggs' is valid variable name while 100 isn't.\n",
    "The first letter of variable name must be alphabet or underscore."
   ]
  }
 ],
 "metadata": {
  "kernelspec": {
   "display_name": "Python 3 (ipykernel)",
   "language": "python",
   "name": "python3"
  },
  "language_info": {
   "codemirror_mode": {
    "name": "ipython",
    "version": 3
   },
   "file_extension": ".py",
   "mimetype": "text/x-python",
   "name": "python",
   "nbconvert_exporter": "python",
   "pygments_lexer": "ipython3",
   "version": "3.9.13"
  }
 },
 "nbformat": 4,
 "nbformat_minor": 5
}
