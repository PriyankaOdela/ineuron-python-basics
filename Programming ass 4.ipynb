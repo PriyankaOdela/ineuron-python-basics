{
 "cells": [
  {
   "cell_type": "code",
   "execution_count": 2,
   "id": "87e106bf",
   "metadata": {},
   "outputs": [
    {
     "name": "stdout",
     "output_type": "stream",
     "text": [
      "Enter the num:56\n",
      "the factors of 56 are:\n",
      "1 2 4 7 8 14 28 "
     ]
    }
   ],
   "source": [
    "# 1. Write a Python Program to Find the Factorial of a Number?\n",
    "num = int(input(\"Enter the num:\"))\n",
    "print(\"the factors of\",num,\"are:\")\n",
    "for i in range(1,num):\n",
    "    if (num%i) == 0:\n",
    "        print(i,end = ' ')\n",
    "        "
   ]
  },
  {
   "cell_type": "code",
   "execution_count": 3,
   "id": "c243fff9",
   "metadata": {},
   "outputs": [
    {
     "name": "stdout",
     "output_type": "stream",
     "text": [
      "Enter the number for multiplication table:89\n",
      "The multiplication table is:\n",
      "89 * 1 = 89\n",
      "89 * 2 = 178\n",
      "89 * 3 = 267\n",
      "89 * 4 = 356\n",
      "89 * 5 = 445\n",
      "89 * 6 = 534\n",
      "89 * 7 = 623\n",
      "89 * 8 = 712\n",
      "89 * 9 = 801\n",
      "89 * 10 = 890\n",
      "89 * 11 = 979\n",
      "89 * 12 = 1068\n",
      "89 * 13 = 1157\n",
      "89 * 14 = 1246\n",
      "89 * 15 = 1335\n",
      "89 * 16 = 1424\n",
      "89 * 17 = 1513\n",
      "89 * 18 = 1602\n",
      "89 * 19 = 1691\n",
      "89 * 20 = 1780\n"
     ]
    }
   ],
   "source": [
    "# 2. Write a Python Program to Display the multiplication Table?\n",
    "num = int(input(\"Enter the number for multiplication table:\"))\n",
    "print(\"The multiplication table is:\")\n",
    "for i in range(1,21):\n",
    "    result = num * i\n",
    "    print(num,'*',i,'=',result)\n",
    "    "
   ]
  },
  {
   "cell_type": "code",
   "execution_count": 6,
   "id": "f4a8ae98",
   "metadata": {},
   "outputs": [
    {
     "name": "stdout",
     "output_type": "stream",
     "text": [
      "[0, 1, 1, 2, 3, 5, 8, 13, 21, 34, 55, 89, 144, 233, 377, 610, 987, 1597, 2584, 4181]\n"
     ]
    }
   ],
   "source": [
    "# 3. Write a Python Program to Print the Fibonacci sequence?\n",
    "def fibonacci(n):\n",
    "    sequence = []\n",
    "    if n == 1:\n",
    "        sequence = [0]\n",
    "    else:\n",
    "        sequence = [0,1]\n",
    "        for i in range(1, n-1):\n",
    "            sequence.append(sequence[i-1] + sequence[i])\n",
    "    return sequence\n",
    "\n",
    "print(fibonacci(20))"
   ]
  },
  {
   "cell_type": "code",
   "execution_count": 4,
   "id": "83417759",
   "metadata": {},
   "outputs": [
    {
     "name": "stdout",
     "output_type": "stream",
     "text": [
      "Enter a number: 376\n",
      "376 is not an Armstrong number\n"
     ]
    }
   ],
   "source": [
    "# 4. Write a Python Program to Check Armstrong Number?\n",
    "\n",
    "num = int(input(\"Enter a number: \"))\n",
    "\n",
    "# initialize sum\n",
    "sum = 0\n",
    "\n",
    "# find the sum of the cube of each digit\n",
    "temp = num\n",
    "while temp > 0:\n",
    "    digit = temp % 10\n",
    "    sum += digit ** 3\n",
    "    temp //= 10\n",
    "\n",
    "# display the result\n",
    "if num == sum:\n",
    "     print(num,\"is an Armstrong number\")\n",
    "else:\n",
    "    print(num,\"is not an Armstrong number\")\n"
   ]
  },
  {
   "cell_type": "code",
   "execution_count": 12,
   "id": "75d65f5d",
   "metadata": {},
   "outputs": [
    {
     "name": "stdout",
     "output_type": "stream",
     "text": [
      "1 is a armstrong number\n",
      "64 is a armstrong number\n",
      "125 is a armstrong number\n",
      "153 is a armstrong number\n",
      "216 is a armstrong number\n",
      "370 is a armstrong number\n",
      "371 is a armstrong number\n",
      "407 is a armstrong number\n",
      "729 is a armstrong number\n"
     ]
    }
   ],
   "source": [
    "# 5. Write a Python Program to Find Armstrong Number in an Interval?\n",
    "for num in range(1,1000):\n",
    "    temp = num\n",
    "    sum = 0\n",
    "    while temp > 0:\n",
    "        digit = temp % 10\n",
    "        sum += digit ** 3\n",
    "        temp //= 10\n",
    "        if num == sum:\n",
    "            print(num,\"is a armstrong number\")\n",
    "       \n"
   ]
  },
  {
   "cell_type": "code",
   "execution_count": 19,
   "id": "63b4dcc4",
   "metadata": {},
   "outputs": [
    {
     "name": "stdout",
     "output_type": "stream",
     "text": [
      "Enter the no of natural numbers:50\n",
      "The sum of natural numbers is: 1275\n"
     ]
    }
   ],
   "source": [
    "# 6. Write a Python Program to Find the Sum of Natural Numbers?\n",
    "num = int(input(\"Enter the no of natural numbers:\"))\n",
    "sum = 0\n",
    "for value in range(1,num+1):\n",
    "     sum = sum + value\n",
    "print(\"The sum of natural numbers is:\",sum)"
   ]
  },
  {
   "cell_type": "code",
   "execution_count": null,
   "id": "cadbb06f",
   "metadata": {},
   "outputs": [],
   "source": []
  }
 ],
 "metadata": {
  "kernelspec": {
   "display_name": "Python 3 (ipykernel)",
   "language": "python",
   "name": "python3"
  },
  "language_info": {
   "codemirror_mode": {
    "name": "ipython",
    "version": 3
   },
   "file_extension": ".py",
   "mimetype": "text/x-python",
   "name": "python",
   "nbconvert_exporter": "python",
   "pygments_lexer": "ipython3",
   "version": "3.9.13"
  }
 },
 "nbformat": 4,
 "nbformat_minor": 5
}
